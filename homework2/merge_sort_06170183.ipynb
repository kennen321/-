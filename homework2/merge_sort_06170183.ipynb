{
 "cells": [
  {
   "cell_type": "code",
   "execution_count": 1,
   "metadata": {},
   "outputs": [],
   "source": [
    "def mergesort(LList, RList):\n",
    "\n",
    "\n",
    "    # 判斷左(右)邊的List，如果只有一邊有值，就可直接回傳\n",
    "     if len(LList) == 0: \n",
    "         return RList \n",
    "     elif len(RList) == 0: \n",
    "         return LList \n",
    "     # 比較兩邊List的第一個值，如果右邊大於左邊，那麼就將左邊的第一個值放入，\n",
    "        #並將後面的值繼續做合併和排序的工作，直到將所有的值都比較完為止\n",
    "     elif LList[0] < RList[0]:\n",
    "         return [LList[0]] + mergesort(LList[1:], RList)\n",
    "     # 與上一段做的工作相同，方向相反\n",
    "     else: \n",
    "         return [RList[0]] + mergesort(LList, RList[1:])\n",
    "\n",
    "\n",
    "# 這一段撰寫的是分割的Function"
   ]
  },
  {
   "cell_type": "code",
   "execution_count": 2,
   "metadata": {},
   "outputs": [],
   "source": [
    "def get(List):\n",
    "    \n",
    "     # 如果List只包含一個值，則直接回傳\n",
    "     if 1 >= len(List):\n",
    "         return List\n",
    "     # 找出中間位置\n",
    "     Mid = int(round(len(List)/2))\n",
    "     LList = []\n",
    "     RList = []\n",
    "     # 將List分成左右兩邊\n",
    "     LList =List[0:Mid]\n",
    "     RList = List[Mid:]\n",
    "     # 不斷分割，直到List內剩下一個值\n",
    "     LData = get(LList)\n",
    "     RData = get(RList)\n",
    "     # 當無法分割時則開始合併\n",
    "     return mergesort(LData, RData)"
   ]
  },
  {
   "cell_type": "code",
   "execution_count": 3,
   "metadata": {},
   "outputs": [
    {
     "name": "stdout",
     "output_type": "stream",
     "text": [
      "[5, 6, 7, 8, 9]\n"
     ]
    }
   ],
   "source": [
    "# 印出回傳的List\n",
    "List=[9,8,7,6,5]\n",
    "print(get(List))"
   ]
  }
 ],
 "metadata": {
  "kernelspec": {
   "display_name": "Python 3",
   "language": "python",
   "name": "python3"
  },
  "language_info": {
   "codemirror_mode": {
    "name": "ipython",
    "version": 3
   },
   "file_extension": ".py",
   "mimetype": "text/x-python",
   "name": "python",
   "nbconvert_exporter": "python",
   "pygments_lexer": "ipython3",
   "version": "3.7.4"
  }
 },
 "nbformat": 4,
 "nbformat_minor"
