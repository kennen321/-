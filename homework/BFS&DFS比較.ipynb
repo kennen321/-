{
 "cells": [
  {
   "cell_type": "markdown",
   "metadata": {},
   "source": [
    "# BFS與DFS之比較"
   ]
  },
  {
   "cell_type": "markdown",
   "metadata": {},
   "source": [
    "一.\n",
    "BFS使用queue存取\n",
    "DFS是使用stack(堆疊)"
   ]
  },
  {
   "cell_type": "markdown",
   "metadata": {},
   "source": [
    "二.\n",
    "BFS的時間複雜度為O(|V|+|E|)，其中|V|是節點的數目，而|E|是圖中邊的數目\n",
    "\n",
    "DFS時間複雜度為O(V+E)，查詢所有頂點的鄰接點所需時間為O(E)，訪問頂點的鄰接點所花時間為O（V)"
   ]
  },
  {
   "cell_type": "markdown",
   "metadata": {},
   "source": [
    "三.\n",
    "BFS會把狀態逐個加入佇列，因此通常需要與狀態數成正比的記憶體空間。\n",
    "\n",
    "反之，DFS是與遞迴深度成正比的。一般與狀態數相比，遞迴深度並不會太大，所以DFS更加省記憶體\n",
    "\n",
    "DFS使用遞迴函式程式可以簡潔地進行書寫，並且狀態管理也很簡單，所以大多數情況還是用DFS來實現相關問題。\n",
    "\n",
    "反之，在求最短路問題時使用BFS為好。"
   ]
  },
  {
   "cell_type": "markdown",
   "metadata": {},
   "source": [
    "四.\n",
    "BFS是一種先進先出的資料結構，對於每一個節點而言，每一次搜尋，都是優先這一個節點的子節點，\n",
    "所以每一次加入等待序列之後，都要等到某一個節點的所有子節點都被訪問完畢， 才可以進行下一個節點的訪問，\n",
    "這正好是，先進入等待序列 的節點，先出序列進行計算，而後進入的，則後出，所以使用佇列儲存。\n",
    "\n",
    "DFS是一種先進後出的資料結構，在DFS中，我們要對每一條路徑走到底，才可以回溯前驅節點，所以當節點加入等待序列之後，\n",
    "都要先讓後加入的（也就是子節點中的某一個） 節點先進行運算， 以保證是一條路走到底，所以符合棧的設計。"
   ]
  }
 ],
 "metadata": {
  "kernelspec": {
   "display_name": "Python 3",
   "language": "python",
   "name": "python3"
  },
  "language_info": {
   "codemirror_mode": {
    "name": "ipython",
    "version": 3
   },
   "file_extension": ".py",
   "mimetype": "text/x-python",
   "name": "python",
   "nbconvert_exporter": "python",
   "pygments_lexer": "ipython3",
   "version": "3.7.4"
  }
 },
 "nbformat": 4,
 "nbformat_minor": 2
}
